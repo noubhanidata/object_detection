{
 "cells": [
  {
   "cell_type": "code",
   "execution_count": 1,
   "metadata": {},
   "outputs": [],
   "source": [
    "import numpy as np\n",
    "import cv2\n",
    "import imutils"
   ]
  },
  {
   "cell_type": "code",
   "execution_count": 2,
   "metadata": {},
   "outputs": [],
   "source": [
    "from tensorflow.keras.applications import ResNet50\n",
    "from tensorflow.keras.applications.resnet import preprocess_input\n",
    "from tensorflow.keras.preprocessing.image import img_to_array\n",
    "from tensorflow.keras.applications import imagenet_utils\n",
    "from imutils.object_detection import non_max_suppression"
   ]
  },
  {
   "cell_type": "code",
   "execution_count": 3,
   "metadata": {},
   "outputs": [],
   "source": [
    "def preprocess_image(image):\n",
    "    image = cv2.cvtColor(image, cv2.COLOR_BGR2RGB)\n",
    "    image = cv2.resize(image, (224,224))\n",
    "    \n",
    "    image = img_to_array(image)\n",
    "    image = preprocess_input(image)\n",
    "    \n",
    "    return image"
   ]
  },
  {
   "cell_type": "code",
   "execution_count": 4,
   "metadata": {},
   "outputs": [],
   "source": [
    "def selective_search(image, method='fast'):\n",
    "    ss = cv2.ximgproc.segmentation.createSelectiveSearchSegmentation()\n",
    "    ss.setBaseImage(image)\n",
    "    \n",
    "    if method == \"fast\":\n",
    "        ss.switchToSelectiveSearchFast()\n",
    "    else:\n",
    "        ss.switchToSelectiveSearchQuality()\n",
    "    rects = ss.process()\n",
    "\n",
    "    return rects"
   ]
  },
  {
   "cell_type": "code",
   "execution_count": 5,
   "metadata": {},
   "outputs": [],
   "source": [
    "def non_max_suppression_indice(boxes, classes, max_bbox_overlap):\n",
    "    \"\"\"Suppress overlapping detections\n",
    "        Returns indices of detections that have survived non-maxima suppression.\n",
    "    \"\"\"\n",
    "    if len(boxes) == 0:\n",
    "        return []\n",
    "\n",
    "    boxes = boxes.astype(np.float)\n",
    "    pick = []\n",
    "\n",
    "    x1 = boxes[:, 0]\n",
    "    y1 = boxes[:, 1]\n",
    "    x2 = boxes[:, 2] \n",
    "    y2 = boxes[:, 3]\n",
    "\n",
    "    area = (x2 - x1 + 1) * (y2 - y1 + 1)\n",
    "    idxs = np.argsort(y2)\n",
    "\n",
    "    while len(idxs) > 0:\n",
    "        last = len(idxs) - 1\n",
    "        i = idxs[last]\n",
    "        pick.append(i)\n",
    "\n",
    "        xx1 = np.maximum(x1[i], x1[idxs[:last]])\n",
    "        yy1 = np.maximum(y1[i], y1[idxs[:last]])\n",
    "        xx2 = np.minimum(x2[i], x2[idxs[:last]])\n",
    "        yy2 = np.minimum(y2[i], y2[idxs[:last]])\n",
    "\n",
    "        w = np.maximum(0, xx2 - xx1 + 1)\n",
    "        h = np.maximum(0, yy2 - yy1 + 1)\n",
    "\n",
    "        overlap = (w * h) / area[idxs[:last]]\n",
    "\n",
    "        idxs = np.delete(\n",
    "            idxs, np.concatenate(\n",
    "                ([last], np.where(overlap > max_bbox_overlap)[0])))\n",
    "\n",
    "    return pick"
   ]
  },
  {
   "cell_type": "code",
   "execution_count": 6,
   "metadata": {},
   "outputs": [],
   "source": [
    "def get_boxes_and_proposals(image):\n",
    "    rects = selective_search(image)\n",
    "    proposals = []\n",
    "    boxes = []\n",
    "    (H, W) = image.shape[:2]\n",
    "    for (x,y,w,h) in rects:\n",
    "        \n",
    "        if w / float(W) < 0.1 or h / float(H) < 0.1:\n",
    "            continue \n",
    "        im = image[y:y+h, x:x+w]\n",
    "        proposals.append(preprocess_image(im))\n",
    "        boxes.append((x,y,w,h))\n",
    "        \n",
    "    \n",
    "    proposals = np.array(proposals)\n",
    "    \n",
    "    return proposals, boxes"
   ]
  },
  {
   "cell_type": "code",
   "execution_count": 14,
   "metadata": {},
   "outputs": [],
   "source": [
    "model = ResNet50(weights=\"imagenet\")"
   ]
  },
  {
   "cell_type": "code",
   "execution_count": 15,
   "metadata": {},
   "outputs": [],
   "source": [
    "def prediction(image,model):\n",
    "    \n",
    "    model = ResNet50(weights=\"imagenet\")\n",
    "    proposals, boxes = get_boxes_and_proposals(image)\n",
    "    preds = model.predict(proposals)\n",
    "    preds = imagenet_utils.decode_predictions(preds,top=5)\n",
    "    \n",
    "    labels = {}\n",
    "    for i in  range(len(preds)):\n",
    "        for pred in preds[i]:\n",
    "            if pred[1] in ['desk', 'violin', 'tennis_ball', 'hammer', 'umbrella'] and pred[2]>0.8:\n",
    "                L = labels.get(pred[1],[])\n",
    "                (x,y,w,h) = boxes[i]\n",
    "                L.append(((x,y,x+w,y+h),pred[2]))\n",
    "                labels[pred[1]] = L\n",
    "    return labels"
   ]
  },
  {
   "cell_type": "code",
   "execution_count": 16,
   "metadata": {},
   "outputs": [],
   "source": [
    "def suppression_redondance(labels):\n",
    "    l = {}\n",
    "    for label in labels:\n",
    "        boxes = np.array([p[0] for p in labels[label]] )\n",
    "        preds = np.array([p[1] for p in labels[label]])\n",
    "        indices = non_max_suppression_indice(boxes,preds,0.3)\n",
    "        \n",
    "        l[label] = (boxes[indices],preds[indices])\n",
    "        \n",
    "    return l"
   ]
  },
  {
   "cell_type": "code",
   "execution_count": 17,
   "metadata": {},
   "outputs": [],
   "source": [
    "def detect_objet(path):\n",
    "    image = cv2.imread(path)\n",
    "    labels = prediction(image,model)\n",
    "    labels = suppression_redondance(labels)\n",
    "    clone = cv2.imread(path) \n",
    "    for label in labels:\n",
    "        boxes, preds = labels[label]\n",
    "        for (i,(startX, startY, endX, endY)) in enumerate(boxes):\n",
    "            cv2.rectangle(clone, (startX,startY), (endX, endY),(0, 255, 0), 2)\n",
    "            y = startY - 10 if startY - 10 > 10 else startY + 10\n",
    "            cv2.putText(clone, label+str(preds[i]), (startX, y),cv2.FONT_HERSHEY_SIMPLEX, 0.45, (0, 255, 0), 2)\n",
    "    return clone"
   ]
  },
  {
   "cell_type": "code",
   "execution_count": 23,
   "metadata": {},
   "outputs": [
    {
     "data": {
      "text/plain": [
       "-1"
      ]
     },
     "execution_count": 23,
     "metadata": {},
     "output_type": "execute_result"
    }
   ],
   "source": [
    "img = detect_objet(\"test11.jpg\")\n",
    "#cv2.imshow(\"After\", img)\n",
    "cv2.imwrite(\"after.jpg\",img)\n",
    "cv2.waitKey(0)"
   ]
  },
  {
   "cell_type": "code",
   "execution_count": 19,
   "metadata": {},
   "outputs": [],
   "source": [
    "def drow_boxes(path):\n",
    "    #etape1\n",
    "    image = cv2.imread(path)\n",
    "    clone1 = cv2.imread(path)\n",
    "    clone2 = cv2.imread(path)\n",
    "    clone3 = cv2.imread(path)\n",
    "    \n",
    "    #etape2\n",
    "    proposals, boxes = get_boxes_and_proposals(image)\n",
    "    for x,y,w,h in boxes:\n",
    "        cv2.rectangle(clone1, (x,y), (x+w, y+h),(0, 255, 0), 2)\n",
    "    #etape3\n",
    "    labels = prediction(image,model)\n",
    "    for label in labels:\n",
    "        boxes = [p[0] for p in labels[label]]\n",
    "    for x,y,x2,y2 in boxes:\n",
    "        cv2.rectangle(clone2, (x,y), (x2, y2),(0, 255, 0), 2)\n",
    "    \n",
    "    #etape4\n",
    "    labels = suppression_redondance(labels)\n",
    "    for label in labels:\n",
    "        boxes, preds = labels[label]\n",
    "        for (i,(startX, startY, endX, endY)) in enumerate(boxes):\n",
    "            cv2.rectangle(clone3, (startX,startY), (endX, endY),(0, 255, 0), 2)\n",
    "            y = startY - 10 if startY - 10 > 10 else startY + 10\n",
    "            cv2.putText(clone3, label+str(preds[i]), (startX, y),cv2.FONT_HERSHEY_SIMPLEX, 0.45, (0, 255, 0), 2)\n",
    "            \n",
    "            \n",
    "    return image, clone1, clone2, clone3"
   ]
  },
  {
   "cell_type": "code",
   "execution_count": 21,
   "metadata": {
    "scrolled": true
   },
   "outputs": [],
   "source": [
    "import matplotlib.pyplot as plt\n",
    "imgs = drow_boxes(\"test11.jpg\")"
   ]
  },
  {
   "cell_type": "code",
   "execution_count": 22,
   "metadata": {},
   "outputs": [
    {
     "data": {
      "text/plain": [
       "<matplotlib.image.AxesImage at 0x1b3a96eed90>"
      ]
     },
     "execution_count": 22,
     "metadata": {},
     "output_type": "execute_result"
    },
    {
     "data": {
      "image/png": "[encoded data removed]",
      "text/plain": [
       "<Figure size 432x288 with 1 Axes>"
      ]
     },
     "metadata": {
      "needs_background": "light"
     },
     "output_type": "display_data"
    }
   ],
   "source": [
    "plt.imshow(imgs[3])"
   ]
  },
  {
   "cell_type": "code",
   "execution_count": null,
   "metadata": {},
   "outputs": [],
   "source": []
  },
  {
   "cell_type": "code",
   "execution_count": null,
   "metadata": {},
   "outputs": [],
   "source": []
  }
 ],
 "metadata": {
  "kernelspec": {
   "display_name": "Python 3",
   "language": "python",
   "name": "python3"
  },
  "language_info": {
   "codemirror_mode": {
    "name": "ipython",
    "version": 3
   },
   "file_extension": ".py",
   "mimetype": "text/x-python",
   "name": "python",
   "nbconvert_exporter": "python",
   "pygments_lexer": "ipython3",
   "version": "3.8.8"
  }
 },
 "nbformat": 4,
 "nbformat_minor": 2
}
